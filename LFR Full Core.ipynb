{
 "cells": [
  {
   "cell_type": "code",
   "execution_count": 1,
   "id": "eec1edb2",
   "metadata": {},
   "outputs": [],
   "source": [
    "%matplotlib inline # This causes the graphs/plots to be displayed directly in the notebook output (inline plotting).\n",
    "import openmc # Importing the module 'openmc' from Python."
   ]
  },
  {
   "cell_type": "code",
   "execution_count": 2,
   "id": "bc6241c1",
   "metadata": {},
   "outputs": [],
   "source": [
    "# Definition of materials.\n",
    "# Note that the temperatures are in Kelvin units.\n",
    "\n",
    "# Air composition\n",
    "air = openmc.Material(name='Air')\n",
    "air.set_density('g/cm3', 0.0003922)\n",
    "air.add_element('Ar', 0.01288 ,'wo')\n",
    "air.add_element('N', 0.7552178 ,'wo')\n",
    "air.add_element('O', 0.2317709455 ,'wo')\n",
    "air.add_element('C', 0.000131254 ,'wo')\n",
    "air.temperature = 1000\n",
    "\n",
    "# Gas gap composition\n",
    "helium = openmc.Material(name='Helium')\n",
    "helium.set_density('g/cm3', 0.001598)\n",
    "helium.add_element('He', 1,'wo')\n",
    "helium.temperature = 823 \n",
    "\n",
    "# Clad composition\n",
    "t91 = openmc.Material(name='T91 Steel')\n",
    "t91.set_density('g/cm3', 7.7)\n",
    "t91.add_element('Fe', 0.884, 'wo')\n",
    "t91.add_element('Cr', 0.09, 'wo')\n",
    "t91.add_element('Mo', 0.01  , 'wo')\n",
    "t91.add_element('Mn', 0.006, 'wo')\n",
    "t91.add_element('Si', 0.005, 'wo')\n",
    "t91.add_element('V', 0.002, 'wo')\n",
    "t91.add_element('Ni', 0.002, 'wo')\n",
    "t91.add_element('Nb', 0.001, 'wo')\n",
    "t91.temperature = 823 # The maximum clad temperature at normal operating conditions is 550°C or 823 K.\n",
    "\n",
    "# Coolant composition \n",
    "lead = openmc.Material(name='Lead Coolant')\n",
    "lead.add_element('Pb', 1)\n",
    "lead.set_density('g/cm3', 10.58)\n",
    "lead.temperature = 673 # The core inlet temperature is 400°C.\n",
    "\n",
    "# Absorber material\n",
    "b4c = openmc.Material(name='Boron Carbide Absorber')\n",
    "b4c.add_element('B', 4, enrichment = 90.0, enrichment_target = 'B10')\n",
    "b4c.add_nuclide('C12', 1)\n",
    "b4c.set_density('g/cm3', 2.2)\n",
    "b4c.temperature = 673\n",
    "\n",
    "\n",
    "# Moderator composition\n",
    "zrh = openmc.Material(name = 'Zirconium Hydride')\n",
    "zrh.add_element('Zr', 1)\n",
    "zrh.add_element('H', 1.6)\n",
    "zrh.set_density('g/cm3', 5.66) \n",
    "zrh.temperature = 823\n",
    "\n",
    "yh = openmc.Material(name = 'Yttrium Hydride')\n",
    "yh.add_element('Y', 1)\n",
    "yh.add_element('H', 2)\n",
    "yh.set_density('g/cm3', 4.26) \n",
    "yh.temperature = 823"
   ]
  },
  {
   "cell_type": "code",
   "execution_count": 3,
   "id": "b3f9ab58",
   "metadata": {},
   "outputs": [],
   "source": [
    "# Fuel composition \n",
    "\n",
    "UO2 = openmc.Material(name = 'Urania') # Uranium dioxide with 4.5% enrichment. \n",
    "UO2.add_element('U', 1.0, enrichment = 4.5)\n",
    "UO2.add_element('O', 2.0)\n",
    "UO2.set_density('g/cm3', 10.5)\n",
    "\n",
    "PuO2 = openmc.Material(name = 'Plutonium Dioxide')\n",
    "PuO2.add_nuclide('Pu238', 0.01)\n",
    "PuO2.add_nuclide('Pu239', 0.659)\n",
    "PuO2.add_nuclide('Pu240', 0.252)\n",
    "PuO2.add_nuclide('Pu241', 0.039)\n",
    "PuO2.add_nuclide('Pu242', 0.04)\n",
    "PuO2.add_nuclide('O16', 2.0)\n",
    "PuO2.set_density('g/cm3', 10.887)\n",
    "\n",
    "UO2_dep = openmc.Material(name = 'Depleted Uranium') # Depleted uranium dioxide\n",
    "UO2_dep.add_element('U', 1, enrichment = 0.25)\n",
    "UO2_dep.add_element('O', 2.0)\n",
    "UO2_dep.set_density('g/cc', 11.08)\n",
    "UO2_dep.temperature = 1000\n",
    "\n",
    "UO2_nat = openmc.Material(name = 'Natural Uranium') # Natural uranium dioxide\n",
    "UO2_nat.add_element('U', 1, enrichment = 0.72)\n",
    "UO2_nat.add_element('O', 2.0)\n",
    "UO2_nat.set_density('g/cc', 10.97)\n",
    "UO2_nat.temperature = 1000\n",
    "\n",
    "\n",
    "# Minor actinide (MA) composition\n",
    "\n",
    "MA = openmc.Material(name = 'Minor Actinides')\n",
    "MA.add_nuclide('Np237', 0.562, 'wo')\n",
    "MA.add_nuclide('Am241', 0.264, 'wo')\n",
    "MA.add_nuclide('Am243', 0.12, 'wo')\n",
    "MA.add_nuclide('Cm243', 0.0003, 'wo')\n",
    "MA.add_nuclide('Cm244', 0.0511, 'wo')\n",
    "MA.add_nuclide('Cm245', 0.0026, 'wo')\n",
    "MA.set_density('g/cm3', 15.43)"
   ]
  },
  {
   "cell_type": "code",
   "execution_count": 4,
   "id": "48cc0f6b",
   "metadata": {
    "scrolled": false
   },
   "outputs": [],
   "source": [
    "# MOX fuels\n",
    "MOX1 = openmc.Material.mix_materials([UO2_dep, PuO2], [0.85, 0.15], 'wo')\n",
    "MOX2 = openmc.Material.mix_materials([UO2_dep, PuO2], [0.8, 0.2], 'wo')\n",
    "\n",
    "# MOX fuels with minor actinides\n",
    "MOX3 = openmc.Material.mix_materials([UO2_dep, PuO2, MA], [0.75, 0.2, 0.05], 'wo')\n",
    "MOX4 = openmc.Material.mix_materials([UO2_dep, PuO2, MA], [0.7, 0.2, 0.1], 'wo')\n",
    "\n",
    "MOX1.temperature = 1000\n",
    "MOX2.temperature = 1000\n",
    "MOX3.temperature = 1000\n",
    "MOX4.temperature = 1000"
   ]
  },
  {
   "cell_type": "code",
   "execution_count": 5,
   "id": "43bad8c4",
   "metadata": {},
   "outputs": [],
   "source": [
    "# Instantiate a materials collection and export it to XML\n",
    "\n",
    "materials_file = openmc.Materials([air, MOX1, MOX2, UO2_dep, UO2_nat, helium, t91, lead])\n",
    "materials_file.export_to_xml()\n"
   ]
  },
  {
   "cell_type": "code",
   "execution_count": 6,
   "id": "59cfb76e",
   "metadata": {},
   "outputs": [
    {
     "data": {
      "text/plain": [
       "<matplotlib.image.AxesImage at 0x7f0003110520>"
      ]
     },
     "execution_count": 6,
     "metadata": {},
     "output_type": "execute_result"
    },
    {
     "data": {
      "image/png": "[encoded data removed]",
      "text/plain": [
       "<Figure size 258.065x259.74 with 1 Axes>"
      ]
     },
     "metadata": {},
     "output_type": "display_data"
    },
    {
     "data": {
      "image/png": "[encoded data removed]",
      "text/plain": [
       "<Figure size 258.065x259.74 with 1 Axes>"
      ]
     },
     "metadata": {},
     "output_type": "display_data"
    }
   ],
   "source": [
    "# Instantiate cylindrical surfaces (fuel of inner zone of the core).\n",
    "# All lengths are in cm. The core design is based on the European lead-cooled demonstrator reactor ALFRED.\n",
    "# The ALFRED core active height is 90 cm.\n",
    "\n",
    "fuel_ir  = openmc.ZCylinder(r=0.10)\n",
    "fuel_or  = openmc.ZCylinder(r=0.45)\n",
    "clad_ir  = openmc.ZCylinder(r=0.465)\n",
    "clad_or  = openmc.ZCylinder(r=0.525)\n",
    "\n",
    "top      = openmc.ZPlane(z0=45, name='top', boundary_type = 'reflective')\n",
    "bottom   = openmc.ZPlane(z0=-45, name='bottom', boundary_type = 'reflective')\n",
    "\n",
    "\n",
    "# Instantiate cells and fill with materials\n",
    "hole = openmc.Cell(name='Hole', region = -fuel_ir, fill = air)\n",
    "fuel_iz = openmc.Cell(name='Inner Zone Fuel', region  = +fuel_ir & -fuel_or, fill = MOX1) # iz refers to inner zone.\n",
    "gap = openmc.Cell(name='Gap', region  = +fuel_or & -clad_ir, fill = helium)\n",
    "clad = openmc.Cell(name='Cladding', region = +clad_ir & -clad_or, fill = t91)\n",
    "coolant = openmc.Cell(name='Coolant', region = +clad_or, fill = lead)\n",
    "\n",
    "\n",
    "# Instantiate inner zone fuel universe\n",
    "f_iz = openmc.Universe(cells=[hole, fuel_iz, gap, clad, coolant])\n",
    "f_iz.plot(width=(2.0,2.0), color_by = 'material',\n",
    "       colors = {air:(240,255,255), t91:(25,25,112), helium:(255,255,255), lead:(0,100,255), MOX1:(227,207,87),\n",
    "                 MOX2:(255,51,51)})\n",
    "\n",
    "# Instantiate coolant universe\n",
    "lead_cell = openmc.Cell(fill=lead)\n",
    "lead_univ = openmc.Universe(cells=[lead_cell])\n",
    "lead_univ.plot(width=(2.0,2.0), color_by = 'material', colors = {lead:(0,100,255)})\n"
   ]
  },
  {
   "cell_type": "code",
   "execution_count": 7,
   "id": "b535737f",
   "metadata": {},
   "outputs": [
    {
     "name": "stdout",
     "output_type": "stream",
     "text": [
      "HexLattice\n",
      "\tID             =\t3\n",
      "\tName           =\t\n",
      "\tOrientation    =\ty\n",
      "\t# Rings        =\t7\n",
      "\t# Axial        =\tNone\n",
      "\tCenter         =\t(0.0, 0.0)\n",
      "\tPitch          =\t(1.384,)\n",
      "\tOuter          =\t2\n",
      "\tUniverses      \n",
      "      1\n",
      "     1 1\n",
      "    1 1 1\n",
      "   1 1 1 1\n",
      "  1 1 1 1 1\n",
      " 1 1 1 1 1 1\n",
      "1 1 1 1 1 1 1\n",
      " 1 1 1 1 1 1\n",
      "1 1 1 1 1 1 1\n",
      " 1 1 1 1 1 1\n",
      "1 1 1 1 1 1 1\n",
      " 1 1 1 1 1 1\n",
      "1 1 1 1 1 1 1\n",
      " 1 1 1 1 1 1\n",
      "1 1 1 1 1 1 1\n",
      " 1 1 1 1 1 1\n",
      "1 1 1 1 1 1 1\n",
      " 1 1 1 1 1 1\n",
      "1 1 1 1 1 1 1\n",
      " 1 1 1 1 1 1\n",
      "  1 1 1 1 1\n",
      "   1 1 1 1\n",
      "    1 1 1\n",
      "     1 1\n",
      "      1\n"
     ]
    },
    {
     "data": {
      "text/plain": [
       "<matplotlib.image.AxesImage at 0x7f000287da30>"
      ]
     },
     "execution_count": 7,
     "metadata": {},
     "output_type": "execute_result"
    },
    {
     "data": {
      "image/png": "[encoded data removed]",
      "text/plain": [
       "<Figure size 645.161x649.351 with 1 Axes>"
      ]
     },
     "metadata": {},
     "output_type": "display_data"
    }
   ],
   "source": [
    "# Fuel assembly of inner zone\n",
    "\n",
    "fa_iz = openmc.HexLattice()\n",
    "fa_iz.center = (0., 0.)\n",
    "fa_iz.pitch = (1.384,)\n",
    "fa_iz.outer = lead_univ\n",
    "fa_iz.orientation = 'y'\n",
    "\n",
    "outer_ring = [f_iz]*36\n",
    "\n",
    "ring_1 = [f_iz]*30\n",
    "\n",
    "ring_2 = [f_iz]*24\n",
    "\n",
    "ring_3 = [f_iz]*18\n",
    "\n",
    "ring_4 = [f_iz]*12\n",
    "\n",
    "ring_5 = [f_iz]*6\n",
    "\n",
    "inner_ring = [f_iz]\n",
    "\n",
    "fa_iz.universes = [outer_ring,\n",
    "                     ring_1,\n",
    "                     ring_2,\n",
    "                     ring_3,\n",
    "                     ring_4,\n",
    "                     ring_5,\n",
    "                     inner_ring]\n",
    "print(fa_iz)\n",
    "\n",
    "# Create the prism that will contain the lattice\n",
    "outer_in_surface = openmc.model.hexagonal_prism(edge_length=7*1.384, orientation='y')\n",
    "\n",
    "# Fill a cell with the lattice. This cell is filled with the lattice and contained within the prism.\n",
    "main_in_assembly = openmc.Cell(fill=fa_iz, region=outer_in_surface & -top & +bottom)\n",
    "\n",
    "# Fill a cell with a material that will surround the lattice\n",
    "out_in_assembly  = openmc.Cell(fill=lead, region=~outer_in_surface & -top & +bottom)\n",
    "\n",
    "# Create a universe that contains both \n",
    "main_in_u = openmc.Universe(cells=[main_in_assembly, out_in_assembly])\n",
    "\n",
    "# Plot the universe\n",
    "main_in_u.plot(origin = (0,0,0), pixels=(500, 500), width = (30.,30.), color_by = 'material',\n",
    "               colors = {air:(240,255,255), t91:(25,25,112), helium:(255,255,255), lead:(0,100,255),\n",
    "                         MOX1:(227,207,87), MOX2:(255,51,51)})\n"
   ]
  },
  {
   "cell_type": "code",
   "execution_count": 8,
   "id": "51e47713",
   "metadata": {},
   "outputs": [
    {
     "data": {
      "text/plain": [
       "<matplotlib.image.AxesImage at 0x7f000251a3a0>"
      ]
     },
     "execution_count": 8,
     "metadata": {},
     "output_type": "execute_result"
    },
    {
     "data": {
      "image/png": "[encoded data removed]",
      "text/plain": [
       "<Figure size 258.065x259.74 with 1 Axes>"
      ]
     },
     "metadata": {},
     "output_type": "display_data"
    }
   ],
   "source": [
    "# Instantiate cylindrical surfaces (fuel of outer zone of the core)\n",
    "\n",
    "\n",
    "fuel_ir  = openmc.ZCylinder(r=0.10)\n",
    "fuel_or  = openmc.ZCylinder(r=0.45)\n",
    "clad_ir  = openmc.ZCylinder(r=0.465)\n",
    "clad_or  = openmc.ZCylinder(r=0.525)\n",
    "\n",
    "top      = openmc.ZPlane(z0=45, name='top', boundary_type = 'reflective')\n",
    "bottom   = openmc.ZPlane(z0=-45, name='bottom', boundary_type = 'reflective')\n",
    "\n",
    "\n",
    "# Instantiate cells and fill with materials\n",
    "hole = openmc.Cell(name='Hole', region = -fuel_ir, fill = air)\n",
    "fuel_oz = openmc.Cell(name='Outer Zone Fuel', region  = +fuel_ir & -fuel_or , fill = MOX2)\n",
    "gap = openmc.Cell(name='Gap', region  = +fuel_or & -clad_ir, fill = helium)\n",
    "clad = openmc.Cell(name='Cladding', region = +clad_ir & -clad_or, fill = t91)\n",
    "coolant = openmc.Cell(name='Coolant', region = +clad_or, fill = lead)\n",
    "\n",
    "\n",
    "# Instantiate outer zone fuel universe\n",
    "f_oz = openmc.Universe(cells=[hole, fuel_oz, gap, clad, coolant])\n",
    "f_oz.plot(width=(2.0,2.0), color_by = 'material', colors = {air:(240,255,255), t91:(25,25,112), helium:(255,255,255),\n",
    "                                                            lead:(0,100,255), MOX1:(227,207,87), MOX2:(255,51,51)})\n"
   ]
  },
  {
   "cell_type": "code",
   "execution_count": 9,
   "id": "0f522067",
   "metadata": {},
   "outputs": [
    {
     "name": "stdout",
     "output_type": "stream",
     "text": [
      "HexLattice\n",
      "\tID             =\t6\n",
      "\tName           =\t\n",
      "\tOrientation    =\ty\n",
      "\t# Rings        =\t7\n",
      "\t# Axial        =\tNone\n",
      "\tCenter         =\t(0.0, 0.0)\n",
      "\tPitch          =\t(1.384,)\n",
      "\tOuter          =\t2\n",
      "\tUniverses      \n",
      "      5\n",
      "     5 5\n",
      "    5 5 5\n",
      "   5 5 5 5\n",
      "  5 5 5 5 5\n",
      " 5 5 5 5 5 5\n",
      "5 5 5 5 5 5 5\n",
      " 5 5 5 5 5 5\n",
      "5 5 5 5 5 5 5\n",
      " 5 5 5 5 5 5\n",
      "5 5 5 5 5 5 5\n",
      " 5 5 5 5 5 5\n",
      "5 5 5 5 5 5 5\n",
      " 5 5 5 5 5 5\n",
      "5 5 5 5 5 5 5\n",
      " 5 5 5 5 5 5\n",
      "5 5 5 5 5 5 5\n",
      " 5 5 5 5 5 5\n",
      "5 5 5 5 5 5 5\n",
      " 5 5 5 5 5 5\n",
      "  5 5 5 5 5\n",
      "   5 5 5 5\n",
      "    5 5 5\n",
      "     5 5\n",
      "      5\n"
     ]
    },
    {
     "data": {
      "text/plain": [
       "<matplotlib.image.AxesImage at 0x7f000279b190>"
      ]
     },
     "execution_count": 9,
     "metadata": {},
     "output_type": "execute_result"
    },
    {
     "data": {
      "image/png": "[encoded data removed]",
      "text/plain": [
       "<Figure size 645.161x649.351 with 1 Axes>"
      ]
     },
     "metadata": {},
     "output_type": "display_data"
    }
   ],
   "source": [
    "# Fuel assembly of the outer zone\n",
    "\n",
    "fa_oz = openmc.HexLattice()\n",
    "fa_oz.center = (0., 0.)\n",
    "fa_oz.pitch = (1.384,)\n",
    "fa_oz.outer = lead_univ\n",
    "fa_oz.orientation = 'y'\n",
    "\n",
    "outer_ring = [f_oz]*36\n",
    "\n",
    "ring_1 = [f_oz]*30\n",
    "\n",
    "ring_2 = [f_oz]*24\n",
    "\n",
    "ring_3 = [f_oz]*18\n",
    "\n",
    "ring_4 = [f_oz]*12\n",
    "\n",
    "ring_5 = [f_oz]*6\n",
    "\n",
    "inner_ring = [f_oz]\n",
    "\n",
    "fa_oz.universes = [outer_ring,\n",
    "                     ring_1,\n",
    "                     ring_2,\n",
    "                     ring_3,\n",
    "                     ring_4,\n",
    "                     ring_5,\n",
    "                     inner_ring]\n",
    "print(fa_oz)\n",
    "\n",
    "# Create the prism that will contain the lattice\n",
    "outer_out_surface = openmc.model.hexagonal_prism(edge_length=7*1.384, orientation='y')\n",
    "\n",
    "# Fill a cell with the lattice. This cell is filled with the lattice and contained within the prism.\n",
    "main_out_assembly = openmc.Cell(fill=fa_oz, region=outer_out_surface)\n",
    "\n",
    "# Fill a cell with a material that will surround the lattice\n",
    "out_out_assembly  = openmc.Cell(fill=lead, region=~outer_out_surface)\n",
    "\n",
    "# Create a universe that contains both \n",
    "main_out_u = openmc.Universe(cells=[main_out_assembly, out_out_assembly])\n",
    "\n",
    "# Plot the universe\n",
    "main_out_u.plot(origin = (0,0,0), pixels=(500, 500), width = (30.,30.), color_by = 'material',\n",
    "                colors = {air:(240,255,255), t91:(25,25,112), helium:(255,255,255), lead:(0,100,255),\n",
    "                          MOX1:(227,207,87), MOX2:(255,51,51)})\n"
   ]
  },
  {
   "cell_type": "code",
   "execution_count": 10,
   "id": "b6b3d9f4",
   "metadata": {},
   "outputs": [
    {
     "data": {
      "text/plain": [
       "<matplotlib.image.AxesImage at 0x7f000271ae20>"
      ]
     },
     "execution_count": 10,
     "metadata": {},
     "output_type": "execute_result"
    },
    {
     "data": {
      "image/png": "[encoded data removed]",
      "text/plain": [
       "<Figure size 258.065x259.74 with 1 Axes>"
      ]
     },
     "metadata": {},
     "output_type": "display_data"
    }
   ],
   "source": [
    "# Instantiate cylindrical surfaces (blanket zone)\n",
    "\n",
    "\n",
    "fuel_or  = openmc.ZCylinder(r=0.45)\n",
    "clad_ir  = openmc.ZCylinder(r=0.465)\n",
    "clad_or  = openmc.ZCylinder(r=0.525)\n",
    "\n",
    "top      = openmc.ZPlane(z0=45, name='top', boundary_type = 'reflective')\n",
    "bottom   = openmc.ZPlane(z0=-45, name='bottom', boundary_type = 'reflective')\n",
    "\n",
    "\n",
    "# Instantiate cells and fill with materials\n",
    "fuel_b = openmc.Cell(name='Inner Zone Fuel', region  = -fuel_or, fill = UO2_dep)\n",
    "gap = openmc.Cell(name='Gap', region  = +fuel_or & -clad_ir, fill = helium)\n",
    "clad = openmc.Cell(name='Cladding', region = +clad_ir & -clad_or, fill = t91)\n",
    "coolant = openmc.Cell(name='Coolant', region = +clad_or, fill = lead)\n",
    "\n",
    "\n",
    "# Instantiate blanket fuel universe\n",
    "f_b = openmc.Universe(cells=[fuel_b, gap, clad, coolant])\n",
    "f_b.plot(width=(2.0,2.0), color_by = 'material',\n",
    "         colors = {air:(240,255,255), t91:(25,25,112), helium:(255,255,255), lead:(0,100,255), UO2_dep:(193,205,205),\n",
    "                          MOX1:(227,207,87), MOX2:(255,51,51)})\n"
   ]
  },
  {
   "cell_type": "code",
   "execution_count": 11,
   "id": "bd42b9dd",
   "metadata": {},
   "outputs": [
    {
     "name": "stdout",
     "output_type": "stream",
     "text": [
      "HexLattice\n",
      "\tID             =\t9\n",
      "\tName           =\t\n",
      "\tOrientation    =\ty\n",
      "\t# Rings        =\t7\n",
      "\t# Axial        =\tNone\n",
      "\tCenter         =\t(0.0, 0.0)\n",
      "\tPitch          =\t(1.384,)\n",
      "\tOuter          =\t2\n",
      "\tUniverses      \n",
      "      8\n",
      "     8 8\n",
      "    8 8 8\n",
      "   8 8 8 8\n",
      "  8 8 8 8 8\n",
      " 8 8 8 8 8 8\n",
      "8 8 8 8 8 8 8\n",
      " 8 8 8 8 8 8\n",
      "8 8 8 8 8 8 8\n",
      " 8 8 8 8 8 8\n",
      "8 8 8 8 8 8 8\n",
      " 8 8 8 8 8 8\n",
      "8 8 8 8 8 8 8\n",
      " 8 8 8 8 8 8\n",
      "8 8 8 8 8 8 8\n",
      " 8 8 8 8 8 8\n",
      "8 8 8 8 8 8 8\n",
      " 8 8 8 8 8 8\n",
      "8 8 8 8 8 8 8\n",
      " 8 8 8 8 8 8\n",
      "  8 8 8 8 8\n",
      "   8 8 8 8\n",
      "    8 8 8\n",
      "     8 8\n",
      "      8\n"
     ]
    },
    {
     "data": {
      "text/plain": [
       "<matplotlib.image.AxesImage at 0x7f000271bfd0>"
      ]
     },
     "execution_count": 11,
     "metadata": {},
     "output_type": "execute_result"
    },
    {
     "data": {
      "image/png": "[encoded data removed]",
      "text/plain": [
       "<Figure size 645.161x649.351 with 1 Axes>"
      ]
     },
     "metadata": {},
     "output_type": "display_data"
    }
   ],
   "source": [
    "# Blanket assembly \n",
    "\n",
    "ba = openmc.HexLattice()\n",
    "ba.center = (0., 0.)\n",
    "ba.pitch = (1.384,)\n",
    "ba.outer = lead_univ\n",
    "ba.orientation = 'y'\n",
    "\n",
    "outer_ring = [f_b]*36\n",
    "\n",
    "ring_1 = [f_b]*30\n",
    "\n",
    "ring_2 = [f_b]*24\n",
    "\n",
    "ring_3 = [f_b]*18\n",
    "\n",
    "ring_4 = [f_b]*12\n",
    "\n",
    "ring_5 = [f_b]*6\n",
    "\n",
    "inner_ring = [f_b]\n",
    "\n",
    "ba.universes = [outer_ring,\n",
    "                     ring_1,\n",
    "                     ring_2,\n",
    "                     ring_3,\n",
    "                     ring_4,\n",
    "                     ring_5,\n",
    "                     inner_ring]\n",
    "print(ba)\n",
    "\n",
    "# Create the prism that will contain the lattice\n",
    "outer_out_surface = openmc.model.hexagonal_prism(edge_length=7*1.384, orientation='y')\n",
    "\n",
    "# Fill a cell with the lattice. This cell is filled with the lattice and contained within the prism.\n",
    "main_out_assembly = openmc.Cell(fill=ba, region=outer_out_surface)\n",
    "\n",
    "# Fill a cell with a material that will surround the lattice\n",
    "out_out_assembly  = openmc.Cell(fill=lead, region=~outer_out_surface)\n",
    "\n",
    "# Create a universe that contains both \n",
    "ba_u = openmc.Universe(cells=[main_out_assembly, out_out_assembly])\n",
    "\n",
    "# Plot the universe\n",
    "ba_u.plot(origin = (0,0,0), pixels=(500, 500), width = (30.,30.), color_by = 'material',\n",
    "              colors = {air:(240,255,255), t91:(25,25,112), helium:(255,255,255), lead:(0,100,255), UO2_dep:(193,205,205),\n",
    "                          MOX1:(227,207,87), MOX2:(255,51,51)})\n"
   ]
  },
  {
   "cell_type": "code",
   "execution_count": 12,
   "id": "03603295",
   "metadata": {},
   "outputs": [
    {
     "data": {
      "text/plain": [
       "<matplotlib.image.AxesImage at 0x7f0002673370>"
      ]
     },
     "execution_count": 12,
     "metadata": {},
     "output_type": "execute_result"
    },
    {
     "data": {
      "image/png": "[encoded data removed]",
      "text/plain": [
       "<Figure size 645.161x649.351 with 1 Axes>"
      ]
     },
     "metadata": {},
     "output_type": "display_data"
    }
   ],
   "source": [
    "# Create a hexagonal lead assembly\n",
    "\n",
    "lead_assembly = openmc.model.hexagonal_prism(edge_length=7*1.384, orientation='x')\n",
    "la_cell = openmc.Cell(fill=lead, region=lead_assembly)\n",
    "out_la_cell  = openmc.Cell(fill=lead, region=~lead_assembly)\n",
    "lead_u = openmc.Universe(cells=[la_cell, out_la_cell])\n",
    "\n",
    "lead_u.plot(origin = (0,0,0), pixels=(500, 500), width = (30.,30.), color_by = 'material',\n",
    "            colors = {air:(240,255,255), t91:(25,25,112), helium:(255,255,255), lead:(0,100,255),\n",
    "                      UO2_dep:(193,205,205), MOX1:(227,207,87), MOX2:(255,51,51)})\n"
   ]
  },
  {
   "cell_type": "code",
   "execution_count": 13,
   "id": "ed9b70e6",
   "metadata": {
    "scrolled": false
   },
   "outputs": [
    {
     "name": "stdout",
     "output_type": "stream",
     "text": [
      "HexLattice\n",
      "\tID             =\t12\n",
      "\tName           =\tcore\n",
      "\tOrientation    =\tx\n",
      "\t# Rings        =\t11\n",
      "\t# Axial        =\tNone\n",
      "\tCenter         =\t(0.0, 0.0)\n",
      "\tPitch          =\t(15.223999999999998,)\n",
      "\tOuter          =\t2\n",
      "\tUniverses      \n",
      "                    11  11  11  10  10  10  10  10  11  11  11\n",
      "                  11  11  10  10  10  10  10  10  10  10  11  11\n",
      "                11  10  10  10  10  7   7   7   10  10  10  10  11\n",
      "              10  10  10  7   7   7   7   7   7   7   7   10  10  10\n",
      "            10  10  10  7   7   7   11  7   11  7   7   7   10  10  10\n",
      "          10  10  7   7   7   7   7   7   7   7   7   7   7   7   10  10\n",
      "        10  10  7   7   11  7   4   4   4   4   4   7   11  7   7   10  10\n",
      "      10  10  7   7   7   7   4   4   4   4   4   4   7   7   7   7   10  10\n",
      "    11  10  10  7   11  7   4   4   4   11  4   4   4   7   11  7   10  10  11\n",
      "  11  10  10  7   7   7   4   4   4   4   4   4   4   4   7   7   7   10  10  11\n",
      "11  10  10  7   7   7   4   4   11  4   4   4   11  4   4   7   7   7   10  10  11\n",
      "  11  10  10  7   7   7   4   4   4   4   4   4   4   4   7   7   7   10  10  11\n",
      "    11  10  10  7   11  7   4   4   4   11  4   4   4   7   11  7   10  10  11\n",
      "      10  10  7   7   7   7   4   4   4   4   4   4   7   7   7   7   10  10\n",
      "        10  10  7   7   11  7   4   4   4   4   4   7   11  7   7   10  10\n",
      "          10  10  7   7   7   7   7   7   7   7   7   7   7   7   10  10\n",
      "            10  10  10  7   7   7   11  7   11  7   7   7   10  10  10\n",
      "              10  10  10  7   7   7   7   7   7   7   7   10  10  10\n",
      "                11  10  10  10  10  7   7   7   10  10  10  10  11\n",
      "                  11  11  10  10  10  10  10  10  10  10  11  11\n",
      "                    11  11  11  10  10  10  10  10  11  11  11\n"
     ]
    }
   ],
   "source": [
    "# We have all the required types of assemblies created.\n",
    "# We can now make the entire reactor core by creating a lattice that is filled with the assemblies.\n",
    "\n",
    "\n",
    "# Define the core lattice\n",
    "\n",
    "core_lat = openmc.HexLattice(name='core')\n",
    "core_lat.center = (0., 0.)\n",
    "core_lat.pitch = (11*1.384,)\n",
    "core_lat.outer = lead_univ\n",
    "core_lat.orientation = 'x'\n",
    "\n",
    "# Create rings of fuel universes that will fill the lattice\n",
    "\n",
    "outer_ring = [lead_u, lead_u, lead_u, ba_u, ba_u, ba_u, ba_u, ba_u, lead_u, lead_u]*6\n",
    "\n",
    "ring_9 = [ba_u]*9 + [lead_u] + [ba_u]*8 + [lead_u] + [ba_u]*17 + [lead_u] + [ba_u]*8 + [lead_u] + [ba_u]*8 \n",
    "\n",
    "ring_8 = [ba_u, ba_u, ba_u, main_out_u, main_out_u, main_out_u, ba_u, ba_u]*6\n",
    "\n",
    "ring_7 = [main_out_u, main_out_u, main_out_u, main_out_u, main_out_u, main_out_u, main_out_u]*6\n",
    "\n",
    "ring_6 = [main_out_u, main_out_u, lead_u, main_out_u, lead_u, main_out_u]*6\n",
    "\n",
    "ring_5 = [main_out_u, main_out_u, main_out_u, main_out_u, main_out_u]*6\n",
    "\n",
    "ring_4 = [main_in_u]*24\n",
    "\n",
    "ring_3 = [main_in_u]*18\n",
    "\n",
    "ring_2 = [lead_u, main_in_u, main_in_u]*4\n",
    "\n",
    "ring_1 = [main_in_u]*6\n",
    "\n",
    "inner_ring = [main_in_u]\n",
    "\n",
    "core_lat.universes = [outer_ring,\n",
    "                      ring_9,\n",
    "                      ring_8,\n",
    "                      ring_7,\n",
    "                      ring_6,\n",
    "                      ring_5,\n",
    "                      ring_4,\n",
    "                      ring_3,\n",
    "                      ring_2,\n",
    "                      ring_1,\n",
    "                      inner_ring]\n",
    "print(core_lat)\n"
   ]
  },
  {
   "cell_type": "code",
   "execution_count": 14,
   "id": "406686d2",
   "metadata": {},
   "outputs": [
    {
     "data": {
      "text/plain": [
       "<matplotlib.image.AxesImage at 0x7f00025ec790>"
      ]
     },
     "execution_count": 14,
     "metadata": {},
     "output_type": "execute_result"
    },
    {
     "data": {
      "image/png": "[encoded data removed]",
      "text/plain": [
       "<Figure size 645.161x649.351 with 1 Axes>"
      ]
     },
     "metadata": {},
     "output_type": "display_data"
    }
   ],
   "source": [
    "\n",
    "# Create the prism that will contain the lattice\n",
    "outer_core_surface = openmc.model.hexagonal_prism(edge_length=190, boundary_type='reflective')\n",
    "\n",
    "# Fill a cell with the lattice. This cell is filled with the lattice and contained within the prism.\n",
    "core = openmc.Cell(fill=core_lat, region=outer_core_surface & -top & +bottom)\n",
    "\n",
    "# Create a universe that contains the lattice\n",
    "main_u = openmc.Universe(cells=[core]) \n",
    "\n",
    "main_u.plot(origin = (0,0,0), pixels=(500, 500), width = (400.,400.), color_by = 'material',\n",
    "                    colors = {air:(240,255,255), t91:(25,25,112), helium:(255,255,255), lead:(0,100,255),\n",
    "                      UO2_dep:(193,205,205), MOX1:(227,207,87), MOX2:(255,51,51)})\n"
   ]
  },
  {
   "cell_type": "code",
   "execution_count": 15,
   "id": "d9ce358f",
   "metadata": {},
   "outputs": [
    {
     "data": {
      "text/plain": [
       "<matplotlib.image.AxesImage at 0x7f0002588310>"
      ]
     },
     "execution_count": 15,
     "metadata": {},
     "output_type": "execute_result"
    },
    {
     "data": {
      "image/png": "[encoded data removed]",
      "text/plain": [
       "<Figure size 645.161x649.351 with 1 Axes>"
      ]
     },
     "metadata": {},
     "output_type": "display_data"
    }
   ],
   "source": [
    "main_u.plot(origin = (0,0,0), pixels=(500, 500), width = (400.,100.), color_by = 'material', basis = 'xz',\n",
    "                    colors = {air:(240,255,255), t91:(25,25,112), helium:(255,255,255), lead:(0,100,255),\n",
    "                      UO2_dep:(193,205,205), MOX1:(227,207,87), MOX2:(255,51,51)})\n"
   ]
  },
  {
   "cell_type": "code",
   "execution_count": 16,
   "id": "a46ce6b8",
   "metadata": {},
   "outputs": [],
   "source": [
    "geometry = openmc.Geometry(main_u)\n",
    "geometry.export_to_xml()"
   ]
  },
  {
   "cell_type": "code",
   "execution_count": 17,
   "id": "af4d33e8",
   "metadata": {},
   "outputs": [],
   "source": [
    "# OpenMC simulation parameters\n",
    "batches = 10\n",
    "inactive = 5\n",
    "particles = 10000"
   ]
  },
  {
   "cell_type": "code",
   "execution_count": 18,
   "id": "6770d771",
   "metadata": {
    "scrolled": false
   },
   "outputs": [],
   "source": [
    "##############################################################################\n",
    "#                   Exporting to OpenMC settings.xml file                    #\n",
    "##############################################################################\n",
    "\n",
    "# Instantiate a Settings object, set all runtime parameters, and export to XML\n",
    "settings_file = openmc.Settings()\n",
    "settings_file.temperature = {'method':'interpolation'}\n",
    "settings_file.batches = batches\n",
    "settings_file.inactive = inactive\n",
    "settings_file.particles = particles\n",
    "settings_file.energy_mode = 'continuous-energy'\n",
    "\n",
    "# Create an initial uniform spatial source distribution over fissionable zones\n",
    "bounds = [-150, -150, -50, 150, 150, 50]\n",
    "uniform_dist = openmc.stats.Box(bounds[:3], bounds[3:], only_fissionable=True)\n",
    "settings_file.source = openmc.Source(space=uniform_dist)\n",
    "\n",
    "\n",
    "\n",
    "settings_file.export_to_xml()"
   ]
  },
  {
   "cell_type": "code",
   "execution_count": 19,
   "id": "005ec961",
   "metadata": {
    "scrolled": true
   },
   "outputs": [],
   "source": [
    "# openmc.run()"
   ]
  }
 ],
 "metadata": {
  "kernelspec": {
   "display_name": "Python 3 (ipykernel)",
   "language": "python",
   "name": "python3"
  },
  "language_info": {
   "codemirror_mode": {
    "name": "ipython",
    "version": 3
   },
   "file_extension": ".py",
   "mimetype": "text/x-python",
   "name": "python",
   "nbconvert_exporter": "python",
   "pygments_lexer": "ipython3",
   "version": "3.9.12"
  }
 },
 "nbformat": 4,
 "nbformat_minor": 5
}
